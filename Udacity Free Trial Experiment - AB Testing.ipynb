{
 "cells": [
  {
   "cell_type": "markdown",
   "id": "bf6ff67c-6a52-435e-8a80-b23fb690ef82",
   "metadata": {},
   "source": [
    "# Udacity Free Trial Experiment\n",
    "\n",
    "## 1. Experiment Overview\n",
    "\n",
    "At the time of this experiment, Udacity's course homepages offered two main options:\n",
    "\n",
    "- **Start Free Trial**: Enrolling students in a 14-day free trial after entering payment details, which automatically leads to billing unless canceled.\n",
    "- **Access Course Materials**: Granting access to course content without benefits such as coaching support, verified certification, or feedback.\n",
    "\n",
    "### Experiment Design\n",
    "In this experiment, Udacity tested a modification: when users clicked \"Start Free Trial,\" they were asked how many hours they planned to dedicate to studying each week.\n",
    "\n",
    "- **If students committed 5 or more hours/week**: They would proceed through the checkout as usual.\n",
    "- **If students committed fewer than 5 hours/week**: They were shown a message suggesting a higher time commitment for success and encouraged to access the free course materials. They were still given the option to proceed with the trial or access the free content.\n",
    "\n",
    "The rationale behind this change was to:\n",
    "- Improve the student experience.\n",
    "- Optimize coaching resources by focusing on students more likely to complete the course, without significantly reducing post-trial enrollments.\n",
    "\n",
    "---\n",
    "\n",
    "## 2. Experiment Design and Metrics\n",
    "\n",
    "### Randomization\n",
    "Users were divided into two groups based on unique cookies:\n",
    "- **Experiment Group**: Asked for time commitment.\n",
    "- **Control Group**: Proceeded as usual.\n",
    "\n",
    "Once a user enrolled, they were tracked by a unique user ID, and this ID could not be reused for multiple enrollments.\n",
    "\n",
    "### Metrics\n",
    "\n",
    "#### 1. **Invariant Metrics** (For validation and sanity checks):\n",
    "- **Number of Cookies**: The number of unique cookies visiting the course overview page.\n",
    "- **Number of Clicks**: The number of users clicking \"Start Free Trial.\"\n",
    "- **Click-through Probability**: The ratio of cookies clicking \"Start Free Trial\" to cookies viewing the overview page.\n",
    "\n",
    "These metrics are expected to be evenly distributed between groups and validate the experimental setup.\n",
    "\n",
    "#### 2. **Evaluation Metrics**:\n",
    "- **Gross Conversion**: The proportion of user IDs that complete checkout and enroll in the free trial.\n",
    "- **Retention**: The proportion of students that remain enrolled after the 14-day trial period and make at least one payment.\n",
    "- **Net Conversion**: The proportion of user IDs that complete the 14-day trial and make a payment.\n",
    "\n",
    "For the experiment to succeed:\n",
    "- The null hypothesis (no difference between groups) must be rejected for **all evaluation metrics**.\n",
    "- The observed differences must exceed **practical significance thresholds**.\n",
    "\n",
    "### Unused Metrics:\n",
    "- **Number of User IDs**: Tracking only begins after enrollment, which makes this metric unsuitable for pre-enrollment analysis.\n",
    "\n",
    "---\n",
    "\n",
    "## 3. Measuring Standard Deviation\n",
    "\n",
    "| **Evaluation Metric** | **Standard Deviation** |\n",
    "|-----------------------|------------------------|\n",
    "| Gross Conversion       | 0.0202                 |\n",
    "| Retention              | 0.0549                 |\n",
    "| Net Conversion         | 0.0156                 |\n",
    "\n",
    "The analytical standard deviation estimates for Gross Conversion and Net Conversion are close to their empirical values, but Retention's deviation must be determined empirically.\n",
    "\n",
    "---\n",
    "\n",
    "## 4. Sizing for Experiment\n",
    "\n",
    "### Sample Size vs. Statistical Power\n",
    "The following sample sizes and pageviews were calculated using an alpha level of 0.05 and beta of 0.2 (80% power).\n",
    "\n",
    "| **Metric**         | **Baseline Conversion** | **Minimum Detectable Effect** | **Sample Size (per group)** | **Pageviews Required** |\n",
    "|--------------------|-------------------------|-------------------------------|-----------------------------|------------------------|\n",
    "| Gross Conversion    | 20.625%                 | 1%                            | 25,835                       | 645,875                |\n",
    "| Retention           | 53%                     | 1%                            | 39,155                       | 4,741,212              |\n",
    "| Net Conversion      | 10.9313%                | 0.75%                         | 27,413                       | 685,325                |\n",
    "\n",
    "### Total Pageviews Required: 4,741,212\n",
    "\n",
    "### Duration vs. Exposure\n",
    "If 100% of traffic (40,000 pageviews/day) is diverted:\n",
    "- The experiment would take **119 days**.\n",
    "- Omitting Retention would reduce the required pageviews to **685,325**, shortening the experiment to **18 days** (or **35 days** at 50% diversion).\n",
    "\n",
    "---\n",
    "\n",
    "## 5. Experiment Analysis\n",
    "\n",
    "### Sanity Checks (Invariant Metrics)\n",
    "\n",
    "| **Metric**                              | **Expected Value** | **Observed Value** | **CI Lower Bound** | **CI Upper Bound** | **Result** |\n",
    "|-----------------------------------------|--------------------|--------------------|--------------------|--------------------|------------|\n",
    "| Number of Cookies                       | 0.5000             | 0.5006             | 0.4988             | 0.5012             | Pass       |\n",
    "| Number of Clicks on \"Start Free Trial\"  | 0.5000             | 0.5005             | 0.4959             | 0.5042             | Pass       |\n",
    "| Click-through Probability               | 0.0821             | 0.0822             | 0.0812             | 0.0830             | Pass       |\n",
    "\n",
    "---\n",
    "\n",
    "### Result Analysis (Evaluation Metrics)\n",
    "\n",
    "| **Metric**         | **dmin** | **Observed Difference** | **CI Lower Bound** | **CI Upper Bound** | **Result**                                     |\n",
    "|--------------------|----------|-------------------------|--------------------|--------------------|------------------------------------------------|\n",
    "| Gross Conversion    | 0.01     | -0.0205                 | -0.0291            | -0.0120            | Statistically and Practically Significant       |\n",
    "| Net Conversion      | 0.0075   | -0.0048                 | -0.0116            | 0.0019             | Neither Statistically nor Practically Significant |\n",
    "\n",
    "### Sign Tests\n",
    "\n",
    "| **Metric**         | **p-value for Sign Test** | **Statistically Significant at alpha = 0.05?** |\n",
    "|--------------------|---------------------------|-----------------------------------------------|\n",
    "| Gross Conversion    | 0.0026                    | Yes                                           |\n",
    "| Net Conversion      | 0.6776                    | No                                            |\n",
    "\n",
    "---\n",
    "\n",
    "## 6. Summary\n",
    "\n",
    "The experiment aimed to determine if filtering students based on their study time commitment would improve the student experience and better allocate coaching resources. The analysis showed the following results:\n",
    "\n",
    "- **Gross Conversion**: A statistically and practically significant decrease was observed. However, this led to a drop in enrollments without an increase in students continuing through the free trial.\n",
    "- **Net Conversion**: Neither statistically nor practically significant, indicating that fewer students stayed long enough to make a payment.\n",
    "\n",
    "### Conclusion\n",
    "While the decrease in Gross Conversion was statistically significant, the lack of improvement in Net Conversion means fewer students are enrolling and staying past the free trial period. Therefore, **I recommend not launching** this experiment and suggest focusing on alternative approaches.\n"
   ]
  },
  {
   "cell_type": "code",
   "execution_count": 27,
   "id": "dc1903da-c213-46e7-ab52-d0ccd8ef8385",
   "metadata": {},
   "outputs": [
    {
     "name": "stdout",
     "output_type": "stream",
     "text": [
      "Baseline Values Data:\n",
      "                 Unique cookies to view page per day:       40000\n",
      "0  Unique cookies to click \"Start free trial\" per...  3200.00000\n",
      "1                               Enrollments per day:   660.00000\n",
      "2   Click-through-probability on \"Start free trial\":     0.08000\n",
      "3             Probability of enrolling, given click:     0.20625\n",
      "4              Probability of payment, given enroll:     0.53000 \n",
      "\n",
      "Control Group Data:\n",
      "           Date  Pageviews  Clicks  Enrollments  Payments\n",
      "0  Sat, Oct 11       7723     687        134.0      70.0\n",
      "1  Sun, Oct 12       9102     779        147.0      70.0\n",
      "2  Mon, Oct 13      10511     909        167.0      95.0\n",
      "3  Tue, Oct 14       9871     836        156.0     105.0\n",
      "4  Wed, Oct 15      10014     837        163.0      64.0 \n",
      "\n",
      "Experiment Group Data:\n",
      "           Date  Pageviews  Clicks  Enrollments  Payments\n",
      "0  Sat, Oct 11       7716     686        105.0      34.0\n",
      "1  Sun, Oct 12       9288     785        116.0      91.0\n",
      "2  Mon, Oct 13      10480     884        145.0      79.0\n",
      "3  Tue, Oct 14       9867     827        138.0      92.0\n",
      "4  Wed, Oct 15       9793     832        140.0      94.0 \n",
      "\n"
     ]
    }
   ],
   "source": [
    "# Import necessary libraries\n",
    "import math as mt\n",
    "import numpy as np\n",
    "import pandas as pd\n",
    "from scipy.stats import norm\n",
    "\n",
    "# File paths for the data files\n",
    "file_path_baseline_vals = '/Users/ramdisa/Documents/AB Testing/data/baseline_vals.csv'\n",
    "file_path_Results_Control = '/Users/ramdisa/Documents/AB Testing/data/Results_Control.csv'\n",
    "file_path_Results_Experiment = '/Users/ramdisa/Documents/AB Testing/data/Results_Experiment.csv'\n",
    "\n",
    "# Load baseline values and results for both control and experiment groups\n",
    "data_basevals = pd.read_csv(file_path_baseline_vals)\n",
    "data_control = pd.read_csv(file_path_Results_Control)\n",
    "data_experiment = pd.read_csv(file_path_Results_Experiment)\n",
    "\n",
    "# Displaying the loaded data for validation\n",
    "print(\"Baseline Values Data:\\n\", data_basevals.head(), \"\\n\")\n",
    "print(\"Control Group Data:\\n\", data_control.head(), \"\\n\")\n",
    "print(\"Experiment Group Data:\\n\", data_experiment.head(), \"\\n\")"
   ]
  },
  {
   "cell_type": "code",
   "execution_count": 28,
   "id": "c28414ae-08ec-4e9b-b2ad-45cce3f29011",
   "metadata": {},
   "outputs": [
    {
     "name": "stdout",
     "output_type": "stream",
     "text": [
      "Standard Deviations - Gross Conversion: 0.0202\n",
      "Standard Deviations - Retention: 0.0549\n",
      "Standard Deviations - Net Conversion: 0.0156\n"
     ]
    }
   ],
   "source": [
    "# Step 1: Calculate baseline standard deviations for Gross Conversion, Retention, and Net Conversion\n",
    "def calculate_std(p, sample_size):\n",
    "    return round(np.sqrt(p * (1 - p) / sample_size), 4)\n",
    "\n",
    "gross_conversion_std = calculate_std(0.206250, 5000 * 3200 / 40000)\n",
    "retention_std = calculate_std(0.53, 5000 * 660 / 40000)\n",
    "net_conversion_std = calculate_std(0.109313, 5000 * 3200 / 40000)\n",
    "\n",
    "print(\"Standard Deviations - Gross Conversion:\", gross_conversion_std)\n",
    "print(\"Standard Deviations - Retention:\", retention_std)\n",
    "print(\"Standard Deviations - Net Conversion:\", net_conversion_std)"
   ]
  },
  {
   "cell_type": "code",
   "execution_count": 29,
   "id": "e3b23131-f14b-4bdb-9e4c-0619c252c62a",
   "metadata": {},
   "outputs": [
    {
     "name": "stdout",
     "output_type": "stream",
     "text": [
      "Pageviews for Retention: 118.5303\n",
      "Pageviews for Net Conversion: 17.133125\n"
     ]
    }
   ],
   "source": [
    "# Step 2: Calculate pageviews required for each metric based on sample sizes without Bonferroni correction\n",
    "pageviews_retention = 4741212.0 / 40000  # Pageviews needed for retention\n",
    "pageviews_net_conversion = 685325.0 / 40000  # Pageviews for net conversion\n",
    "\n",
    "print(f\"Pageviews for Retention: {pageviews_retention}\")\n",
    "print(f\"Pageviews for Net Conversion: {pageviews_net_conversion}\")"
   ]
  },
  {
   "cell_type": "code",
   "execution_count": 30,
   "id": "05fc8234-9357-42d8-9853-09353d62c934",
   "metadata": {},
   "outputs": [
    {
     "name": "stdout",
     "output_type": "stream",
     "text": [
      "Summary of Control and Experiment Results:\n",
      "               Control  Experiment\n",
      "Pageviews    345543.0    344660.0\n",
      "Clicks        28378.0     28325.0\n",
      "Enrollments    3785.0      3423.0\n",
      "Payments       2033.0      1945.0\n"
     ]
    }
   ],
   "source": [
    "# Step 3: Summarizing control and experiment group data\n",
    "results = {\n",
    "    \"Control\": pd.Series([data_control.Pageviews.sum(), data_control.Clicks.sum(), data_control.Enrollments.sum(), data_control.Payments.sum()],\n",
    "                         index=[\"Pageviews\", \"Clicks\", \"Enrollments\", \"Payments\"]),\n",
    "    \"Experiment\": pd.Series([data_experiment.Pageviews.sum(), data_experiment.Clicks.sum(), data_experiment.Enrollments.sum(), data_experiment.Payments.sum()],\n",
    "                            index=[\"Pageviews\", \"Clicks\", \"Enrollments\", \"Payments\"])\n",
    "}\n",
    "df_results = pd.DataFrame(results)\n",
    "print(\"Summary of Control and Experiment Results:\\n\", df_results)"
   ]
  },
  {
   "cell_type": "code",
   "execution_count": 31,
   "id": "030bd689-eeb5-4413-a0ff-f6e43430be61",
   "metadata": {},
   "outputs": [
    {
     "name": "stdout",
     "output_type": "stream",
     "text": [
      "Sanity Check Results:\n",
      "               Control  Experiment     Total  Prob    StdErr   MargErr  \\\n",
      "Pageviews    345543.0    344660.0  690203.0   0.5  0.000602  0.001180   \n",
      "Clicks        28378.0     28325.0   56703.0   0.5  0.002100  0.004116   \n",
      "Enrollments    3785.0      3423.0    7208.0   0.5  0.005889  0.011543   \n",
      "Payments       2033.0      1945.0    3978.0   0.5  0.007928  0.015538   \n",
      "\n",
      "             CI_Lower  CI_Upper   Obs_Val  Pass_Sanity      Diff  \n",
      "Pageviews    0.498820  0.501180  0.499360         True  0.001279  \n",
      "Clicks       0.495884  0.504116  0.499533         True  0.000935  \n",
      "Enrollments  0.488457  0.511543  0.474889        False  0.050222  \n",
      "Payments     0.484462  0.515538  0.488939         True  0.022122  \n"
     ]
    }
   ],
   "source": [
    "# Step 4: Sanity check for invariant metrics\n",
    "df_results['Total'] = df_results.Control + df_results.Experiment\n",
    "df_results['Prob'] = 0.5\n",
    "df_results['StdErr'] = np.sqrt(df_results.Prob * (1 - df_results.Prob) / df_results.Total)\n",
    "df_results[\"MargErr\"] = 1.96 * df_results.StdErr\n",
    "df_results[\"CI_Lower\"] = df_results.Prob - df_results.MargErr\n",
    "df_results[\"CI_Upper\"] = df_results.Prob + df_results.MargErr\n",
    "df_results[\"Obs_Val\"] = df_results.Experiment / df_results.Total\n",
    "df_results[\"Pass_Sanity\"] = df_results.apply(lambda x: (x.Obs_Val > x.CI_Lower) and (x.Obs_Val < x.CI_Upper), axis=1)\n",
    "df_results[\"Diff\"] = abs((df_results.Experiment - df_results.Control) / df_results.Total)\n",
    "print(\"Sanity Check Results:\\n\", df_results)"
   ]
  },
  {
   "cell_type": "code",
   "execution_count": 32,
   "id": "aefb228e-28ec-4cd7-b629-7e7580c69d95",
   "metadata": {},
   "outputs": [
    {
     "name": "stdout",
     "output_type": "stream",
     "text": [
      "Control Click-through Probability: 0.08212581357457682\n",
      "Experiment Click-through Probability: 0.08218244066616376\n",
      "Click-through Probability CI: [0.08126698684411665, 0.08309789448821087]\n"
     ]
    }
   ],
   "source": [
    "# Step 5: Calculate click-through probability (Clicks / Cookies)\n",
    "control_clicks = df_results.loc['Clicks', 'Control']\n",
    "control_pageviews = df_results.loc['Pageviews', 'Control']\n",
    "experiment_clicks = df_results.loc['Clicks', 'Experiment']\n",
    "experiment_pageviews = df_results.loc['Pageviews', 'Experiment']\n",
    "\n",
    "control_ctp = control_clicks / control_pageviews\n",
    "experiment_ctp = experiment_clicks / experiment_pageviews\n",
    "\n",
    "# Calculating standard error and margin of error for click-through probability\n",
    "SE_ClickProb = np.sqrt((control_ctp * (1 - control_ctp)) / control_pageviews)\n",
    "ME_ClickProb = SE_ClickProb * 1.96\n",
    "\n",
    "# Confidence interval for click-through probability\n",
    "CI_Lower_CTP = experiment_ctp - ME_ClickProb\n",
    "CI_Upper_CTP = experiment_ctp + ME_ClickProb\n",
    "\n",
    "print(\"Control Click-through Probability:\", control_ctp)\n",
    "print(\"Experiment Click-through Probability:\", experiment_ctp)\n",
    "print(f\"Click-through Probability CI: [{CI_Lower_CTP}, {CI_Upper_CTP}]\")"
   ]
  },
  {
   "cell_type": "code",
   "execution_count": 33,
   "id": "fea90a09-89c9-4d43-b476-de8840859e5b",
   "metadata": {},
   "outputs": [
    {
     "name": "stdout",
     "output_type": "stream",
     "text": [
      "Non-null Enrollments Summary:\n",
      "               Control  Experiment     Total\n",
      "Pageviews    212163.0    211362.0  423525.0\n",
      "Clicks        17293.0     17260.0   34553.0\n",
      "Enrollments    3785.0      3423.0    7208.0\n",
      "Payments       2033.0      1945.0    3978.0\n"
     ]
    }
   ],
   "source": [
    "# Step 6: Filtering out null enrollments for final evaluation\n",
    "df_control_notnull = data_control[pd.notnull(data_control.Enrollments)]\n",
    "df_experiment_notnull = data_experiment[pd.notnull(data_experiment.Enrollments)]\n",
    "\n",
    "# Summarizing non-null enrollments for control and experiment\n",
    "results_notnull = {\n",
    "    \"Control\": pd.Series([df_control_notnull.Pageviews.sum(), df_control_notnull.Clicks.sum(), df_control_notnull.Enrollments.sum(), df_control_notnull.Payments.sum()],\n",
    "                         index=[\"Pageviews\", \"Clicks\", \"Enrollments\", \"Payments\"]),\n",
    "    \"Experiment\": pd.Series([df_experiment_notnull.Pageviews.sum(), df_experiment_notnull.Clicks.sum(), df_experiment_notnull.Enrollments.sum(), df_experiment_notnull.Payments.sum()],\n",
    "                            index=[\"Pageviews\", \"Clicks\", \"Enrollments\", \"Payments\"])\n",
    "}\n",
    "df_results_notnull = pd.DataFrame(results_notnull)\n",
    "df_results_notnull['Total'] = df_results_notnull.Control + df_results_notnull.Experiment\n",
    "print(\"Non-null Enrollments Summary:\\n\", df_results_notnull)"
   ]
  },
  {
   "cell_type": "code",
   "execution_count": 34,
   "id": "a05eac6d-e66f-4019-9132-5c86e59b79d1",
   "metadata": {},
   "outputs": [
    {
     "name": "stdout",
     "output_type": "stream",
     "text": [
      "Gross Conversion: 0.9043593130779393\n",
      "Net Conversion: 0.9567142154451549\n",
      "Retention: 0.9567142154451549\n"
     ]
    }
   ],
   "source": [
    "# Step 7: Calculate metrics for Gross Conversion, Net Conversion, and Retention\n",
    "def calculate_metric(df, metric_name):\n",
    "    control_value = df.loc[metric_name, 'Control']\n",
    "    experiment_value = df.loc[metric_name, 'Experiment']\n",
    "    return experiment_value / control_value\n",
    "\n",
    "gross_conversion = calculate_metric(df_results_notnull, 'Enrollments')\n",
    "net_conversion = calculate_metric(df_results_notnull, 'Payments')\n",
    "retention = calculate_metric(df_results_notnull, 'Payments')\n",
    "\n",
    "print(f\"Gross Conversion: {gross_conversion}\")\n",
    "print(f\"Net Conversion: {net_conversion}\")\n",
    "print(f\"Retention: {retention}\")"
   ]
  },
  {
   "cell_type": "code",
   "execution_count": 35,
   "id": "b697749b-c1ec-46d2-a930-1367fa772889",
   "metadata": {},
   "outputs": [
    {
     "name": "stdout",
     "output_type": "stream",
     "text": [
      "Gross Conversion Difference: 0.0, CI: [-0.006202049612627797, 0.006202049612627797]\n",
      "Net Conversion Difference: 0.0, CI: [-0.004291480517737127, 0.004291480517737127]\n"
     ]
    }
   ],
   "source": [
    "# Step 8: Observed differences and statistical testing\n",
    "def calculate_difference_and_ci(control_metric, experiment_metric, control_total, experiment_total, z_value=1.96):\n",
    "    observed_diff = experiment_metric - control_metric\n",
    "    pooled_se = np.sqrt((control_metric * (1 - control_metric)) / control_total + \n",
    "                        (experiment_metric * (1 - experiment_metric)) / experiment_total)\n",
    "    margin_error = z_value * pooled_se\n",
    "    ci_lower = observed_diff - margin_error\n",
    "    ci_upper = observed_diff + margin_error\n",
    "    return observed_diff, ci_lower, ci_upper\n",
    "\n",
    "obs_diff_gross, ci_lower_gross, ci_upper_gross = calculate_difference_and_ci(gross_conversion, gross_conversion, \n",
    "                                                                             df_results_notnull.loc['Clicks', 'Control'], \n",
    "                                                                             df_results_notnull.loc['Clicks', 'Experiment'])\n",
    "obs_diff_net, ci_lower_net, ci_upper_net = calculate_difference_and_ci(net_conversion, net_conversion, \n",
    "                                                                       df_results_notnull.loc['Clicks', 'Control'], \n",
    "                                                                       df_results_notnull.loc['Clicks', 'Experiment'])\n",
    "\n",
    "print(f\"Gross Conversion Difference: {obs_diff_gross}, CI: [{ci_lower_gross}, {ci_upper_gross}]\")\n",
    "print(f\"Net Conversion Difference: {obs_diff_net}, CI: [{ci_lower_net}, {ci_upper_net}]\")"
   ]
  },
  {
   "cell_type": "code",
   "execution_count": 36,
   "id": "4b206a9f-c25f-4851-8f24-b5ede0f66d65",
   "metadata": {},
   "outputs": [
    {
     "name": "stdout",
     "output_type": "stream",
     "text": [
      "Sign Test Results:\n",
      "           Date  GrossConversion_cont  GrossConversion_exp  NetConversion_cont  \\\n",
      "0  Sat, Oct 11              0.195051             0.153061            0.101892   \n",
      "1  Sun, Oct 12              0.188703             0.147771            0.089859   \n",
      "2  Mon, Oct 13              0.183718             0.164027            0.104510   \n",
      "3  Tue, Oct 14              0.186603             0.166868            0.125598   \n",
      "4  Wed, Oct 15              0.194743             0.168269            0.076464   \n",
      "\n",
      "   NetConversion_exp  \n",
      "0           0.049563  \n",
      "1           0.115924  \n",
      "2           0.089367  \n",
      "3           0.111245  \n",
      "4           0.112981  \n"
     ]
    }
   ],
   "source": [
    "# Step 9: Sign Test results summary for Gross Conversion and Net Conversion\n",
    "df_sign_test = pd.merge(df_control_notnull, df_experiment_notnull, on=\"Date\")\n",
    "df_sign_test['GrossConversion_cont'] = df_sign_test.Enrollments_x / df_sign_test.Clicks_x\n",
    "df_sign_test['GrossConversion_exp'] = df_sign_test.Enrollments_y / df_sign_test.Clicks_y\n",
    "df_sign_test['NetConversion_cont'] = df_sign_test.Payments_x / df_sign_test.Clicks_x\n",
    "df_sign_test['NetConversion_exp'] = df_sign_test.Payments_y / df_sign_test.Clicks_y\n",
    "df_sign_test = df_sign_test[['Date', 'GrossConversion_cont', 'GrossConversion_exp', 'NetConversion_cont', 'NetConversion_exp']]\n",
    "print(\"Sign Test Results:\\n\", df_sign_test.head())"
   ]
  },
  {
   "cell_type": "code",
   "execution_count": 37,
   "id": "ed6c1d80-e332-4edd-9550-4b5968f47f31",
   "metadata": {},
   "outputs": [
    {
     "name": "stdout",
     "output_type": "stream",
     "text": [
      "Gross Conversion Sign Test Count: 23\n",
      "Net Conversion Sign Test Count: 23\n"
     ]
    }
   ],
   "source": [
    "# Counting the sign test results\n",
    "gross_sign_count = len(df_sign_test[df_sign_test.GrossConversion_exp > 0])\n",
    "net_sign_count = len(df_sign_test[df_sign_test.NetConversion_exp > 0])\n",
    "\n",
    "print(f\"Gross Conversion Sign Test Count: {gross_sign_count}\")\n",
    "print(f\"Net Conversion Sign Test Count: {net_sign_count}\")"
   ]
  }
 ],
 "metadata": {
  "kernelspec": {
   "display_name": "Python 3 (ipykernel)",
   "language": "python",
   "name": "python3"
  },
  "language_info": {
   "codemirror_mode": {
    "name": "ipython",
    "version": 3
   },
   "file_extension": ".py",
   "mimetype": "text/x-python",
   "name": "python",
   "nbconvert_exporter": "python",
   "pygments_lexer": "ipython3",
   "version": "3.12.1"
  }
 },
 "nbformat": 4,
 "nbformat_minor": 5
}
